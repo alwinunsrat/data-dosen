{
 "cells": [
  {
   "cell_type": "code",
   "execution_count": 3,
   "id": "248d3a00-feea-483a-971b-ee167a6a080e",
   "metadata": {},
   "outputs": [
    {
     "name": "stdout",
     "output_type": "stream",
     "text": [
      "Gagal (429): 198603092019031008\n",
      "Gagal (429): 197908042014041001\n",
      "Gagal (429): 197709292005011005\n",
      "Gagal (429): 198512132019031013\n",
      "Gagal (429): 197507292006041001\n",
      "Gagal (429): 198906242018031001\n",
      "Gagal (429): 197710042006042002\n",
      "Gagal (429): 196705101997021001\n",
      "Gagal (429): 197605192000032001\n",
      "Gagal (429): 198007092005011002\n",
      "Gagal (429): 198201192006042004\n",
      "Gagal (429): 198612142019032014\n"
     ]
    }
   ],
   "source": [
    "import requests\n",
    "import time\n",
    "\n",
    "# Daftar pasangan NIP dan Google Scholar User ID\n",
    "nip_user_pairs = [\n",
    "    (\"198603092019031008\", \"KBSmDMsAAAAJ\"),\n",
    "    (\"197908042014041001\", \"JG9dOjMAAAAJ\"),\n",
    "    (\"197709292005011005\", \"rrIe2ikAAAAJ\"),\n",
    "    (\"198512132019031013\", \"qSOReaoAAAAJ\"),\n",
    "    (\"197507292006041001\", \"zoZrXW8AAAAJ\"),\n",
    "    (\"198906242018031001\", \"pCd91GQAAAAJ\"),\n",
    "    (\"197710042006042002\", \"OuzwGFAAAAAJ\"),\n",
    "    (\"196705101997021001\", \"JauimssAAAAJ\"),\n",
    "    (\"197605192000032001\", \"2Fcm1mAAAAAJ\"),\n",
    "    (\"198007092005011002\", \"z1Ue2LAAAAAJ\"),\n",
    "    (\"198201192006042004\", \"7v_i-mQAAAAJ\"),\n",
    "    (\"198612142019032014\", \"49n85bMAAAAJ\"),\n",
    "]\n",
    "\n",
    "# Base URL pattern\n",
    "base_url = \"https://scholar.googleusercontent.com/citations?view_op=medium_photo&user={user_id}&citpid=2&authuser=2\"\n",
    "\n",
    "headers = {\n",
    "    \"User-Agent\": \"Mozilla/5.0 (Windows NT 10.0; Win64; x64)\"\n",
    "}\n",
    "\n",
    "# Unduh dan simpan gambar\n",
    "for nip, user_id in nip_user_pairs:\n",
    "    url = base_url.format(user_id=user_id)\n",
    "    time.sleep(5)\n",
    "    try:\n",
    "        # response = requests.get(url)\n",
    "        response = requests.get(url, headers=headers)\n",
    "        if response.status_code == 200:\n",
    "            with open(f\"{nip}.png\", \"wb\") as f:\n",
    "                f.write(response.content)\n",
    "            print(f\"Sukses: {nip}.png\")\n",
    "        else:\n",
    "            print(f\"Gagal ({response.status_code}): {nip}\")\n",
    "    except Exception as e:\n",
    "        print(f\"Error pada {nip}: {e}\")"
   ]
  },
  {
   "cell_type": "code",
   "execution_count": null,
   "id": "61ca878d-b5f4-4b0b-9af0-3f750d4bfd1a",
   "metadata": {},
   "outputs": [],
   "source": []
  }
 ],
 "metadata": {
  "kernelspec": {
   "display_name": "Python 3 (ipykernel)",
   "language": "python",
   "name": "python3"
  },
  "language_info": {
   "codemirror_mode": {
    "name": "ipython",
    "version": 3
   },
   "file_extension": ".py",
   "mimetype": "text/x-python",
   "name": "python",
   "nbconvert_exporter": "python",
   "pygments_lexer": "ipython3",
   "version": "3.11.7"
  }
 },
 "nbformat": 4,
 "nbformat_minor": 5
}
